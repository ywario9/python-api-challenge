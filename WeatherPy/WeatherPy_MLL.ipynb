{
 "cells": [
  {
   "cell_type": "markdown",
   "metadata": {},
   "source": [
    "# WeatherPy"
   ]
  },
  {
   "cell_type": "code",
   "execution_count": 81,
   "metadata": {
    "scrolled": true
   },
   "outputs": [],
   "source": [
    "# Dependencies and Setup\n",
    "import matplotlib.pyplot as plt\n",
    "import pandas as pd\n",
    "import numpy as np\n",
    "import requests\n",
    "import time\n",
    "import json\n",
    "from config import api_key\n",
    "from scipy.stats import linregress\n",
    "from pprint import pprint\n",
    "\n",
    "# Incorporated citipy to determine city based on latitude and longitude\n",
    "from citipy import citipy\n",
    "\n",
    "# Output File (CSV)\n",
    "output_data_file = \"output_data/cities.csv\"\n",
    "\n",
    "# Range of latitudes and longitudes\n",
    "lat_range = (-90, 90)\n",
    "lng_range = (-180, 180)"
   ]
  },
  {
   "cell_type": "markdown",
   "metadata": {},
   "source": [
    "## Generate Cities List"
   ]
  },
  {
   "cell_type": "code",
   "execution_count": 82,
   "metadata": {},
   "outputs": [
    {
     "data": {
      "text/plain": [
       "609"
      ]
     },
     "execution_count": 82,
     "metadata": {},
     "output_type": "execute_result"
    }
   ],
   "source": [
    "# List for holding lat_lngs and cities\n",
    "lat_lngs = []\n",
    "cities = []\n",
    "\n",
    "# Create a set of random lat and lng combinations\n",
    "lats = np.random.uniform(low=-90.000, high=90.000, size=1500)\n",
    "lngs = np.random.uniform(low=-180.000, high=180.000, size=1500)\n",
    "lat_lngs = zip(lats, lngs)\n",
    "\n",
    "# Identify nearest city for each lat, lng combination\n",
    "for lat_lng in lat_lngs:\n",
    "    city = citipy.nearest_city(lat_lng[0], lat_lng[1]).city_name\n",
    "    \n",
    "    # If the city is unique, then add it to a our cities list\n",
    "    if city not in cities:\n",
    "        cities.append(city)\n",
    "\n",
    "# Print the city count to confirm sufficient count\n",
    "len(cities)"
   ]
  },
  {
   "cell_type": "markdown",
   "metadata": {},
   "source": [
    "### Perform API Calls\n",
    "* Perform a weather check on each city using a series of successive API calls.\n",
    "* Include a print log of each city as it'sbeing processed (with the city number and city name).\n"
   ]
  },
  {
   "cell_type": "code",
   "execution_count": 111,
   "metadata": {},
   "outputs": [],
   "source": [
    "url = \"http://api.openweathermap.org/data/2.5/weather?\"\n",
    "units = \"imperial\"\n",
    "\n",
    "# Build partial query URL\n",
    "query_url = f\"{url}appid={api_key}&units={units}&q=\""
   ]
  },
  {
   "cell_type": "code",
   "execution_count": 119,
   "metadata": {},
   "outputs": [
    {
     "name": "stdout",
     "output_type": "stream",
     "text": [
      "Record Not found #1 kamenskoye\n",
      "Record#2 pevek\n",
      "Record Not found #3 we\n",
      "Record#4 saint george\n",
      "Record#5 luderitz\n",
      "Record#6 chokurdakh\n",
      "Record#7 da nang\n",
      "Record#8 ribeira grande\n",
      "Record#9 geraldton\n",
      "Record Not found #10 nizhneyansk\n",
      "Record#11 mount gambier\n",
      "Record#12 yakeshi\n",
      "Record#13 bredasdorp\n",
      "Record Not found #14 illoqqortoormiut\n",
      "Record#15 klaksvik\n",
      "Record#16 albany\n",
      "Record#17 saskylakh\n",
      "Record#18 puerto ayora\n",
      "Record#19 iqaluit\n",
      "Record#20 new norfolk\n",
      "Record#21 victoria\n",
      "Record#22 phan thiet\n",
      "Record#23 barrow\n",
      "Record#24 chara\n",
      "Record#25 batagay\n",
      "Record Not found #26 khonuu\n",
      "Record#27 fort nelson\n",
      "Record#28 solvychegodsk\n",
      "Record#29 ushuaia\n",
      "Record Not found #30 burica\n",
      "Record#31 kotdwara\n",
      "Record Not found #32 amderma\n",
      "Record#33 huangchuan\n",
      "Record#34 bulolo\n",
      "Record#35 georgetown\n",
      "Record#36 berkeley\n",
      "Record#37 east london\n",
      "Record#38 wahiawa\n",
      "Record#39 coremas\n",
      "Record Not found #40 halalo\n",
      "Record#41 krutikha\n",
      "Record#42 yellowknife\n",
      "Record#43 okhotsk\n",
      "Record#44 rikitea\n",
      "Record#45 busselton\n",
      "Record#46 avarua\n",
      "Record#47 ilorin\n",
      "Record#48 moron\n",
      "Record#49 nome\n",
      "Record#50 grindavik\n",
      "Record#51 guangshui\n",
      "Record Not found #52 barentsburg\n",
      "Record#53 saquarema\n",
      "Record#54 pacific grove\n",
      "Record#55 visby\n",
      "Record#56 feldru\n",
      "Record#57 novobirilyussy\n",
      "Record#58 kapaa\n",
      "Record#59 prado\n",
      "Record#60 kaitangata\n",
      "Record#61 mar del plata\n",
      "Record#62 quatre cocos\n",
      "Record#63 yerbogachen\n",
      "Record#64 biak\n",
      "Record#65 severo-kurilsk\n",
      "Record#66 vestmannaeyjar\n",
      "Record#67 hit\n",
      "Record#68 khatanga\n",
      "Record#69 tiksi\n",
      "Record#70 cidreira\n",
      "Record#71 san alberto\n",
      "Record#72 yulara\n",
      "Record#73 hambantota\n",
      "Record#74 bilma\n",
      "Record#75 lebu\n",
      "Record#76 bambous virieux\n",
      "Record#77 airai\n",
      "Record#78 tuktoyaktuk\n",
      "Record#79 puerto penasco\n",
      "Record#80 barcelos\n",
      "Record#81 bluff\n",
      "Record#82 newport\n",
      "Record#83 provideniya\n",
      "Record#84 yaan\n",
      "Record Not found #85 tubruq\n",
      "Record#86 alice town\n",
      "Record#87 ponta do sol\n",
      "Record#88 samarai\n",
      "Record#89 saint-pierre\n",
      "Record#90 cherskiy\n",
      "Record#91 mahebourg\n",
      "Record#92 lompoc\n",
      "Record#93 beaver dam\n",
      "Record#94 ranong\n",
      "Record#95 cape town\n",
      "Record#96 santiago de cao\n",
      "Record#97 songjianghe\n",
      "Record#98 carnarvon\n",
      "Record#99 mataura\n",
      "Record#100 thompson\n",
      "Record#101 souillac\n",
      "Record#102 arraial do cabo\n",
      "Record#103 hobart\n",
      "Record#104 newtownards\n",
      "Record#105 vaini\n",
      "Record#106 kristiinankaupunki\n",
      "Record#107 awjilah\n",
      "Record#108 tutoia\n",
      "Record#109 bo phloi\n",
      "Record#110 punta arenas\n",
      "Record#111 bengkulu\n",
      "Record#112 hilo\n",
      "Record#113 barkly west\n",
      "Record#114 jamestown\n",
      "Record Not found #115 dinsor\n",
      "Record#116 uglich\n",
      "Record#117 tabou\n",
      "Record#118 isangel\n",
      "Record#119 saint-philippe\n",
      "Record#120 aklavik\n",
      "Record#121 walvis bay\n",
      "Record#122 hermanus\n",
      "Record Not found #123 belushya guba\n",
      "Record#124 faya\n",
      "Record#125 bosaso\n",
      "Record#126 geghamasar\n",
      "Record#127 saint-augustin\n",
      "Record#128 batsfjord\n",
      "Record Not found #129 attawapiskat\n",
      "Record#130 castro\n",
      "Record#131 nyurba\n",
      "Record#132 aksarka\n",
      "Record#133 genhe\n",
      "Record#134 tilichiki\n",
      "Record#135 hithadhoo\n",
      "Record Not found #136 taolanaro\n",
      "Record#137 maumere\n",
      "Record#138 totness\n",
      "Record#139 miranda\n",
      "Record#140 la ronge\n",
      "Record#141 muros\n",
      "Record#142 biskamzha\n",
      "Record#143 shimanovsk\n",
      "Record#144 nikolskoye\n",
      "Record#145 ondjiva\n",
      "Record#146 lasa\n",
      "Record#147 bang racham\n",
      "Record#148 port arthur\n",
      "Record Not found #149 sansai\n",
      "Record#150 utiel\n",
      "Record#151 abrau-dyurso\n",
      "Record#152 port lincoln\n",
      "Record#153 pavilosta\n",
      "Record#154 storforshei\n",
      "Record#155 golden\n",
      "Record#156 tasiilaq\n",
      "Record#157 atuona\n",
      "Record#158 kodiak\n",
      "Record#159 torbay\n",
      "Record#160 longyearbyen\n",
      "Record#161 beringovskiy\n",
      "Record#162 lorengau\n",
      "Record#163 sinnamary\n",
      "Record#164 rivne\n",
      "Record#165 ust-maya\n",
      "Record#166 berlevag\n",
      "Record#167 san-pedro\n",
      "Record#168 dalmatovo\n",
      "Record#169 deputatskiy\n",
      "Record#170 esperance\n",
      "Record#171 sorland\n",
      "Record Not found #172 palabuhanratu\n",
      "Record#173 obo\n",
      "Record#174 chicama\n",
      "Record#175 atocha\n",
      "Record#176 yar-sale\n",
      "Record#177 tazovskiy\n",
      "Record#178 tateyama\n",
      "Record#179 sioux lookout\n",
      "Record#180 qaanaaq\n",
      "Record#181 little current\n",
      "Record#182 poykovskiy\n",
      "Record#183 butaritari\n",
      "Record#184 ambilobe\n",
      "Record#185 beloha\n",
      "Record#186 sitka\n",
      "Record#187 kahului\n",
      "Record#188 waingapu\n",
      "Record#189 kangaatsiaq\n",
      "Record#190 viedma\n",
      "Record#191 jamsa\n",
      "Record#192 darab\n",
      "Record#193 itarema\n",
      "Record#194 te anau\n",
      "Record#195 tigil\n",
      "Record#196 kemijarvi\n",
      "Record Not found #197 mizpe ramon\n",
      "Record#198 norman wells\n",
      "Record#199 upernavik\n",
      "Record#200 tanout\n",
      "Record#201 kastamonu\n",
      "Record#202 vrangel\n",
      "Record#203 jalu\n",
      "Record#204 zhigansk\n",
      "Record#205 juneau\n",
      "Record#206 cockburn town\n",
      "Record#207 port alfred\n",
      "Record Not found #208 mrirt\n",
      "Record#209 senneterre\n",
      "Record#210 armidale\n",
      "Record#211 half moon bay\n",
      "Record#212 olafsvik\n",
      "Record#213 san joaquin\n",
      "Record#214 taltal\n",
      "Record Not found #215 meyungs\n",
      "Record#216 port-gentil\n",
      "Record#217 qasigiannguit\n",
      "Record#218 ust-ilimsk\n",
      "Record#219 dingle\n",
      "Record#220 dikson\n",
      "Record#221 chuy\n",
      "Record#222 halifax\n",
      "Record#223 buraydah\n",
      "Record#224 orlik\n",
      "Record#225 richards bay\n",
      "Record#226 maningrida\n",
      "Record#227 bethel\n",
      "Record#228 pitsunda\n",
      "Record#229 cerea\n",
      "Record#230 billings\n",
      "Record#231 gua musang\n",
      "Record#232 ipojuca\n",
      "Record#233 mizdah\n",
      "Record#234 broken hill\n",
      "Record#235 tetouan\n",
      "Record Not found #236 grand river south east\n",
      "Record#237 ust-karsk\n",
      "Record#238 college\n",
      "Record#239 cap malheureux\n",
      "Record#240 fairbanks\n",
      "Record#241 buta\n",
      "Record#242 el alto\n",
      "Record#243 ponta delgada\n",
      "Record#244 gushikawa\n",
      "Record#245 marawi\n",
      "Record#246 smithers\n",
      "Record#247 kavieng\n",
      "Record#248 kavaratti\n",
      "Record#249 mantua\n",
      "Record#250 mana\n",
      "Record#251 aloleng\n",
      "Record#252 henties bay\n",
      "Record#253 port elizabeth\n",
      "Record#254 atar\n",
      "Record#255 talnakh\n",
      "Record#256 sindor\n",
      "Record#257 westport\n",
      "Record#258 mayumba\n",
      "Record#259 leningradskiy\n",
      "Record#260 pilot butte\n",
      "Record#261 srednekolymsk\n",
      "Record#262 humberto de campos\n",
      "Record#263 santa rosa\n",
      "Record#264 hualmay\n",
      "Record#265 ilulissat\n",
      "Record#266 karratha\n",
      "Record#267 suzaka\n",
      "Record#268 sola\n",
      "Record#269 brownsville\n",
      "Record#270 wairoa\n",
      "Record#271 cayenne\n",
      "Record#272 southend-on-sea\n",
      "Record#273 chato\n",
      "Record#274 hervey bay\n",
      "Record#275 horodok\n",
      "Record#276 hukuntsi\n",
      "Record Not found #277 toliary\n",
      "Record#278 saint-joseph\n",
      "Record Not found #279 mys shmidta\n",
      "Record#280 shar\n",
      "Record#281 plouzane\n",
      "Record#282 pangody\n",
      "Record#283 whitianga\n",
      "Record#284 boden\n",
      "Record#285 darhan\n",
      "Record#286 imbituba\n",
      "Record#287 seoul\n",
      "Record#288 dandong\n",
      "Record#289 batticaloa\n",
      "Record#290 sabha\n",
      "Record#291 kabanjahe\n",
      "Record#292 puerto el triunfo\n",
      "Record#293 arona\n",
      "Record#294 elat\n",
      "Record#295 fallon\n",
      "Record#296 kalmunai\n",
      "Record#297 jutai\n",
      "Record#298 dilla\n",
      "Record#299 alice springs\n",
      "Record Not found #300 chagda\n",
      "Record#301 hasaki\n",
      "Record#302 ola\n",
      "Record#303 codrington\n",
      "Record#304 meulaboh\n",
      "Record#305 tuy hoa\n",
      "Record#306 morant bay\n",
      "Record#307 kapit\n",
      "Record#308 cabo san lucas\n",
      "Record#309 mus\n",
      "Record#310 hobyo\n",
      "Record Not found #311 tawkar\n",
      "Record#312 komsomolskiy\n",
      "Record#313 pisco\n",
      "Record#314 batemans bay\n",
      "Record#315 ancud\n",
      "Record#316 sisimiut\n",
      "Record#317 maslovka\n",
      "Record#318 naze\n",
      "Record#319 turukhansk\n",
      "Record Not found #320 ruatoria\n",
      "Record#321 pestretsy\n",
      "Record#322 tual\n",
      "Record#323 tibati\n",
      "Record#324 syamzha\n",
      "Record#325 teya\n",
      "Record Not found #326 tabarqah\n",
      "Record#327 konevo\n",
      "Record#328 zhanaozen\n",
      "Record#329 west bay\n",
      "Record#330 lagoa\n",
      "Record#331 klyuchi\n",
      "Record#332 changji\n",
      "Record#333 palmer\n",
      "Record#334 murgab\n",
      "Record#335 nova olinda do norte\n",
      "Record#336 husavik\n",
      "Record#337 puerto madero\n",
      "Record#338 malanje\n",
      "Record Not found #339 marcona\n",
      "Record#340 trelew\n",
      "Record#341 kyzyl-mazhalyk\n",
      "Record#342 baruun-urt\n",
      "Record#343 obregon\n",
      "Record#344 disna\n",
      "Record Not found #345 tidore\n",
      "Record#346 vung tau\n",
      "Record#347 fortuna\n",
      "Record#348 sao gabriel da cachoeira\n",
      "Record#349 port hawkesbury\n",
      "Record Not found #350 vaitupu\n",
      "Record#351 dwarka\n",
      "Record Not found #352 umzimvubu\n",
      "Record#353 fort frances\n",
      "Record#354 laviana\n",
      "Record#355 roebourne\n",
      "Record#356 reconquista\n",
      "Record#357 gat\n",
      "Record#358 praia\n",
      "Record Not found #359 abu jubayhah\n",
      "Record#360 arroyo\n",
      "Record#361 giyon\n",
      "Record#362 guadalupe y calvo\n",
      "Record#363 nianzishan\n",
      "Record#364 santa vitoria\n",
      "Record#365 makakilo city\n",
      "Record#366 sao joao da barra\n",
      "Record#367 gamba\n",
      "Record#368 hay river\n",
      "Record#369 liverpool\n",
      "Record#370 kholodnyy\n",
      "Record#371 velikooktyabrskiy\n",
      "Record#372 yairipok\n",
      "Record#373 birao\n",
      "Record#374 shush\n",
      "Record#375 la rioja\n",
      "Record#376 tolyatti\n",
      "Record#377 savalou\n",
      "Record#378 luangwa\n",
      "Record#379 iralaya\n",
      "Record#380 solnechnyy\n",
      "Record#381 bathsheba\n",
      "Record#382 the pas\n",
      "Record#383 faanui\n",
      "Record#384 ferkessedougou\n",
      "Record#385 bubaque\n",
      "Record#386 nantucket\n",
      "Record#387 veracruz\n",
      "Record#388 vila velha\n",
      "Record#389 novopokrovka\n",
      "Record#390 jesus maria\n"
     ]
    },
    {
     "name": "stdout",
     "output_type": "stream",
     "text": [
      "Record#391 kragero\n",
      "Record#392 belaya gora\n",
      "Record#393 alofi\n",
      "Record#394 shenjiamen\n",
      "Record#395 akyab\n",
      "Record#396 mingshui\n",
      "Record#397 kasur\n",
      "Record Not found #398 manzil tamim\n",
      "Record Not found #399 petrolandia\n",
      "Record Not found #400 toftir\n",
      "Record#401 san patricio\n",
      "Record#402 sayyan\n",
      "Record#403 milan\n",
      "Record#404 kishanganj\n",
      "Record#405 gubkinskiy\n",
      "Record#406 nizwa\n",
      "Record#407 satipo\n",
      "Record#408 coquimbo\n",
      "Record#409 urucara\n",
      "Record#410 shimoda\n",
      "Record#411 kathmandu\n",
      "Record#412 ostrovnoy\n",
      "Record#413 lewiston\n",
      "Record#414 harper\n",
      "Record#415 borovoy\n",
      "Record#416 manta\n",
      "Record Not found #417 tumannyy\n",
      "Record#418 luganville\n",
      "Record#419 rio grande\n",
      "Record#420 ladario\n",
      "Record#421 rundu\n",
      "Record#422 alta floresta\n",
      "Record#423 furano\n",
      "Record#424 acarau\n",
      "Record#425 hami\n",
      "Record#426 el rosario\n",
      "Record Not found #427 viligili\n",
      "Record#428 okha\n",
      "Record#429 baykit\n",
      "Record#430 kalur kot\n",
      "Record Not found #431 sentyabrskiy\n",
      "Record#432 xuddur\n",
      "Record#433 kushmurun\n",
      "Record#434 inta\n",
      "Record#435 brae\n",
      "Record#436 cruzeiro do sul\n",
      "Record#437 gunjur\n",
      "Record#438 tuatapere\n",
      "Record#439 mfou\n",
      "Record#440 severnyy\n",
      "Record#441 abu kamal\n",
      "Record#442 marzuq\n",
      "Record#443 sao filipe\n",
      "Record#444 vetluzhskiy\n",
      "Record#445 varhaug\n",
      "Record#446 mauren\n",
      "Record Not found #447 taburi\n",
      "Record#448 ouesso\n",
      "Record#449 virarajendrapet\n",
      "Record#450 skagen\n",
      "Record#451 tura\n",
      "Record#452 xichang\n",
      "Record#453 iquique\n",
      "Record#454 thunder bay\n",
      "Record#455 igarka\n",
      "Record#456 bandarbeyla\n",
      "Record#457 mopti\n",
      "Record#458 chirongui\n",
      "Record#459 novikovo\n",
      "Record#460 kaeo\n",
      "Record#461 vinderei\n",
      "Record#462 clarksburg\n",
      "Record#463 houma\n",
      "Record#464 terra santa\n",
      "Record#465 tonekabon\n",
      "Record#466 kuzino\n",
      "Record#467 bende\n",
      "Record#468 baker\n",
      "Record#469 edd\n",
      "Record#470 monywa\n",
      "Record#471 adjumani\n",
      "Record#472 raposa\n",
      "Record#473 malkangiri\n",
      "Record#474 alanya\n",
      "Record#475 opuwo\n",
      "Record#476 itamaraju\n",
      "Record#477 tromso\n",
      "Record#478 thinadhoo\n",
      "Record#479 beian\n",
      "Record Not found #480 urdzhar\n",
      "Record#481 sambava\n",
      "Record#482 ouango\n",
      "Record#483 nicoya\n",
      "Record#484 hirara\n",
      "Record#485 noshiro\n",
      "Record#486 dudinka\n",
      "Record#487 bonthe\n",
      "Record#488 broome\n",
      "Record#489 kroya\n",
      "Record#490 miquelon\n",
      "Record#491 santa fe do sul\n",
      "Record#492 gorele\n",
      "Record#493 pandamatenga\n",
      "Record#494 doctor arroyo\n",
      "Record#495 tautira\n",
      "Record#496 san isidro\n",
      "Record#497 champerico\n",
      "Record#498 chimbote\n",
      "Record#499 nizhnevartovsk\n",
      "Record#500 martos\n",
      "Record#501 jumla\n",
      "Record#502 kirakira\n",
      "Record#503 craig\n",
      "Record#504 christchurch\n",
      "Record#505 paamiut\n",
      "Record#506 manaure\n",
      "Record#507 mikkeli\n",
      "Record#508 los llanos de aridane\n",
      "Record#509 cumaral\n",
      "Record#510 exeter\n",
      "Record#511 kampene\n",
      "Record#512 botshabelo\n",
      "Record#513 vallenar\n",
      "Record#514 lavrentiya\n",
      "Record#515 oranjestad\n",
      "Record#516 camacari\n",
      "Record#517 pundaguitan\n",
      "Record#518 campbell river\n",
      "Record#519 sakakah\n",
      "Record#520 lichuan\n",
      "Record#521 nelson bay\n",
      "Record#522 benjamin constant\n",
      "Record#523 salalah\n",
      "Record#524 xunchang\n",
      "Record#525 majene\n",
      "Record#526 touros\n",
      "Record#527 svetlogorsk\n",
      "Record Not found #528 artyk\n",
      "Record#529 bom jesus\n",
      "Record Not found #530 tabiauea\n",
      "Record#531 arcata\n",
      "Record#532 grand-santi\n",
      "Record#533 buin\n",
      "Record#534 lufkin\n",
      "Record#535 antigonish\n",
      "Record#536 ginda\n",
      "Record#537 ercis\n",
      "Record#538 zeya\n",
      "Record#539 guerrero negro\n",
      "Record#540 necochea\n",
      "Record#541 esso\n",
      "Record#542 tankara\n",
      "Record#543 kuala terengganu\n",
      "Record#544 katsuura\n",
      "Record#545 puerto rondon\n",
      "Record#546 parnarama\n",
      "Record#547 arzgir\n",
      "Record#548 ossora\n",
      "Record#549 poltava\n",
      "Record#550 hamamatsu\n",
      "Record#551 holme\n",
      "Record#552 kargil\n",
      "Record#553 dongobesh\n",
      "Record#554 vinh long\n",
      "Record#555 vila franca do campo\n",
      "Record#556 panguna\n",
      "Record#557 vestmanna\n",
      "Record#558 san juan\n",
      "Record#559 arosa\n",
      "Record#560 kaiserslautern\n",
      "Record#561 skibbereen\n",
      "Record#562 turan\n",
      "Record#563 ixtapa\n",
      "Record#564 saint-georges\n",
      "Record#565 mandla\n",
      "Record#566 miandrivazo\n",
      "Record Not found #567 dianopolis\n",
      "Record#568 tarakan\n",
      "Record#569 marand\n",
      "Record#570 puerto carreno\n",
      "Record#571 tiznit\n",
      "Record#572 mehamn\n",
      "Record#573 masyaf\n",
      "Record#574 smila\n",
      "Record#575 inhambane\n",
      "Record#576 caravelas\n",
      "Record#577 fabiansebestyen\n",
      "Record#578 assiniboia\n",
      "Record#579 douglas\n",
      "Record#580 kyren\n",
      "Record#581 ust-barguzin\n",
      "Record#582 krasnyy chikoy\n",
      "Record#583 boyolangu\n",
      "Record#584 dedza\n",
      "Record#585 saiha\n",
      "Record Not found #586 karaul\n",
      "Record#587 petropavlovsk-kamchatskiy\n",
      "Record#588 mpika\n",
      "Record#589 koungou\n",
      "Record#590 bassila\n",
      "Record Not found #591 baboua\n",
      "Record#592 nowa deba\n",
      "Record#593 mitsamiouli\n",
      "Record#594 clyde river\n",
      "Record#595 hofn\n",
      "Record#596 gondanglegi\n",
      "Record#597 taonan\n",
      "Record#598 constitucion\n",
      "Record#599 nanortalik\n",
      "Record Not found #600 rungata\n",
      "Record#601 buala\n",
      "Record#602 port hardy\n",
      "Record#603 adrar\n",
      "Record#604 lensk\n",
      "Record#605 uarini\n",
      "Record#606 koygorodok\n",
      "Record#607 beihai\n",
      "Record#608 zambezi\n",
      "Record#609 sosnovo-ozerskoye\n"
     ]
    }
   ],
   "source": [
    "# set up lists to hold responses\n",
    "weather_list = []\n",
    "i = 0\n",
    "\n",
    "for city in cities:\n",
    "    i = i + 1\n",
    "    response = requests.get(query_url + city).json()\n",
    "    try:\n",
    "        cityid = response[\"id\"]\n",
    "        cloudiness = response[\"clouds\"][\"all\"]\n",
    "        country = response['sys']['country']\n",
    "        date = response['dt']\n",
    "        humidity = response['main']['humidity']\n",
    "        lat = response['coord']['lat']\n",
    "        long = response['coord']['lon']\n",
    "        temp = response['main']['temp_max']\n",
    "        wind = response['wind']['speed']\n",
    "        weather_list.append({\"City\": city, \n",
    "                             \"City ID\": cityid, \n",
    "                             \"Cloudiness\": cloudiness, \n",
    "                             \"Country\": country, \n",
    "                             \"Date\": date, \n",
    "                             \"Humidity\": humidity, \n",
    "                             \"Lat\": lat, \n",
    "                             \"Long\": long, \n",
    "                             \"Max Temp\":temp, \n",
    "                             \"Wind Speed\": wind,})\n",
    "        print(f\"Record#{i} {city}\")\n",
    "    except:\n",
    "        print(f\"Record Not found #{i} {city}\")"
   ]
  },
  {
   "cell_type": "markdown",
   "metadata": {},
   "source": [
    "### Convert Raw Data to DataFrame\n",
    "* Export the city data into a .csv.\n",
    "* Display the DataFrame"
   ]
  },
  {
   "cell_type": "code",
   "execution_count": 120,
   "metadata": {},
   "outputs": [
    {
     "data": {
      "text/html": [
       "<div>\n",
       "<style scoped>\n",
       "    .dataframe tbody tr th:only-of-type {\n",
       "        vertical-align: middle;\n",
       "    }\n",
       "\n",
       "    .dataframe tbody tr th {\n",
       "        vertical-align: top;\n",
       "    }\n",
       "\n",
       "    .dataframe thead th {\n",
       "        text-align: right;\n",
       "    }\n",
       "</style>\n",
       "<table border=\"1\" class=\"dataframe\">\n",
       "  <thead>\n",
       "    <tr style=\"text-align: right;\">\n",
       "      <th></th>\n",
       "      <th>City</th>\n",
       "      <th>City ID</th>\n",
       "      <th>Cloudiness</th>\n",
       "      <th>Country</th>\n",
       "      <th>Date</th>\n",
       "      <th>Humidity</th>\n",
       "      <th>Lat</th>\n",
       "      <th>Long</th>\n",
       "      <th>Max Temp</th>\n",
       "      <th>Wind Speed</th>\n",
       "    </tr>\n",
       "  </thead>\n",
       "  <tbody>\n",
       "    <tr>\n",
       "      <td>0</td>\n",
       "      <td>pevek</td>\n",
       "      <td>2122090</td>\n",
       "      <td>100</td>\n",
       "      <td>RU</td>\n",
       "      <td>1586547028</td>\n",
       "      <td>86</td>\n",
       "      <td>69.70</td>\n",
       "      <td>170.31</td>\n",
       "      <td>1.17</td>\n",
       "      <td>22.48</td>\n",
       "    </tr>\n",
       "    <tr>\n",
       "      <td>1</td>\n",
       "      <td>saint george</td>\n",
       "      <td>5546220</td>\n",
       "      <td>1</td>\n",
       "      <td>US</td>\n",
       "      <td>1586547016</td>\n",
       "      <td>44</td>\n",
       "      <td>37.10</td>\n",
       "      <td>-113.58</td>\n",
       "      <td>60.80</td>\n",
       "      <td>4.70</td>\n",
       "    </tr>\n",
       "    <tr>\n",
       "      <td>2</td>\n",
       "      <td>luderitz</td>\n",
       "      <td>3355672</td>\n",
       "      <td>0</td>\n",
       "      <td>NA</td>\n",
       "      <td>1586547058</td>\n",
       "      <td>77</td>\n",
       "      <td>-26.65</td>\n",
       "      <td>15.16</td>\n",
       "      <td>60.80</td>\n",
       "      <td>4.70</td>\n",
       "    </tr>\n",
       "    <tr>\n",
       "      <td>3</td>\n",
       "      <td>chokurdakh</td>\n",
       "      <td>2126123</td>\n",
       "      <td>0</td>\n",
       "      <td>RU</td>\n",
       "      <td>1586547201</td>\n",
       "      <td>96</td>\n",
       "      <td>70.63</td>\n",
       "      <td>147.92</td>\n",
       "      <td>18.79</td>\n",
       "      <td>10.54</td>\n",
       "    </tr>\n",
       "    <tr>\n",
       "      <td>4</td>\n",
       "      <td>da nang</td>\n",
       "      <td>1583992</td>\n",
       "      <td>20</td>\n",
       "      <td>VN</td>\n",
       "      <td>1586547201</td>\n",
       "      <td>88</td>\n",
       "      <td>16.07</td>\n",
       "      <td>108.22</td>\n",
       "      <td>77.00</td>\n",
       "      <td>4.68</td>\n",
       "    </tr>\n",
       "  </tbody>\n",
       "</table>\n",
       "</div>"
      ],
      "text/plain": [
       "           City  City ID  Cloudiness Country        Date  Humidity    Lat  \\\n",
       "0         pevek  2122090         100      RU  1586547028        86  69.70   \n",
       "1  saint george  5546220           1      US  1586547016        44  37.10   \n",
       "2      luderitz  3355672           0      NA  1586547058        77 -26.65   \n",
       "3    chokurdakh  2126123           0      RU  1586547201        96  70.63   \n",
       "4       da nang  1583992          20      VN  1586547201        88  16.07   \n",
       "\n",
       "     Long  Max Temp  Wind Speed  \n",
       "0  170.31      1.17       22.48  \n",
       "1 -113.58     60.80        4.70  \n",
       "2   15.16     60.80        4.70  \n",
       "3  147.92     18.79       10.54  \n",
       "4  108.22     77.00        4.68  "
      ]
     },
     "execution_count": 120,
     "metadata": {},
     "output_type": "execute_result"
    }
   ],
   "source": [
    "# Create a data frame from list\n",
    "weather_data = pd.DataFrame(weather_list)\n",
    "weather_data.head()"
   ]
  },
  {
   "cell_type": "code",
   "execution_count": 130,
   "metadata": {},
   "outputs": [
    {
     "data": {
      "text/plain": [
       "City          564\n",
       "City ID       564\n",
       "Cloudiness    564\n",
       "Country       564\n",
       "Date          564\n",
       "Humidity      564\n",
       "Lat           564\n",
       "Long          564\n",
       "Max Temp      564\n",
       "Wind Speed    564\n",
       "dtype: int64"
      ]
     },
     "execution_count": 130,
     "metadata": {},
     "output_type": "execute_result"
    }
   ],
   "source": [
    "weather_data.count()"
   ]
  },
  {
   "cell_type": "code",
   "execution_count": 131,
   "metadata": {},
   "outputs": [],
   "source": [
    "# Export to csv\n",
    "weather_data.to_csv(\"output_data/cities.csv\")"
   ]
  },
  {
   "cell_type": "markdown",
   "metadata": {},
   "source": [
    "### Plotting the Data\n",
    "* Use proper labeling of the plots using plot titles (including date of analysis) and axes labels.\n",
    "* Save the plotted figures as .pngs."
   ]
  },
  {
   "cell_type": "markdown",
   "metadata": {},
   "source": [
    "#### Latitude vs. Temperature Plot"
   ]
  },
  {
   "cell_type": "code",
   "execution_count": 134,
   "metadata": {
    "scrolled": true
   },
   "outputs": [
    {
     "data": {
      "image/png": "[encoded data removed]",
      "text/plain": [
       "<Figure size 432x288 with 1 Axes>"
      ]
     },
     "metadata": {
      "needs_background": "light"
     },
     "output_type": "display_data"
    }
   ],
   "source": [
    "# Create a Scatter Plot for temperature vs latitude\n",
    "x_values = weather_data['Lat']\n",
    "y_values = weather_data['Max Temp']\n",
    "plt.scatter(x_values,y_values)\n",
    "plt.title(\"Latitude vs. Max Temperature\")\n",
    "plt.xlabel('City Latitude')\n",
    "plt.ylabel('Max Temperature')\n",
    "plt.savefig(\"output_data/latvstemp.png\")\n",
    "plt.show()"
   ]
  },
  {
   "cell_type": "markdown",
   "metadata": {},
   "source": [
    "### This scatter plot shows that the closer cities are to the equator (latitude = 0), the higher the max temps. It also shows another trend that as cities move increasignly north (positive lat values) away from the equator, they experience more extreme temperature drops than cities that are further south. This would indicate that the north pole is colder, on average, than the south pole."
   ]
  },
  {
   "cell_type": "markdown",
   "metadata": {},
   "source": [
    "#### Latitude vs. Humidity Plot"
   ]
  },
  {
   "cell_type": "code",
   "execution_count": 135,
   "metadata": {},
   "outputs": [
    {
     "data": {
      "image/png": "[encoded data removed]",
      "text/plain": [
       "<Figure size 432x288 with 1 Axes>"
      ]
     },
     "metadata": {
      "needs_background": "light"
     },
     "output_type": "display_data"
    }
   ],
   "source": [
    "x_values = weather_data['Lat']\n",
    "y_values = weather_data['Humidity']\n",
    "plt.scatter(x_values,y_values)\n",
    "plt.title(\"Latitude vs. Humidity\")\n",
    "plt.xlabel('City Latitude')\n",
    "plt.ylabel('Humidity')\n",
    "plt.savefig(\"output_data/latvshumid.png\")\n",
    "plt.show()"
   ]
  },
  {
   "cell_type": "markdown",
   "metadata": {},
   "source": [
    "### This scatter plot shows that there doesn't seem to be a meaningful relationship between humidity and latitude.  "
   ]
  },
  {
   "cell_type": "markdown",
   "metadata": {},
   "source": [
    "#### Latitude vs. Cloudiness Plot"
   ]
  },
  {
   "cell_type": "code",
   "execution_count": 136,
   "metadata": {},
   "outputs": [
    {
     "data": {
      "image/png": "[encoded data removed]",
      "text/plain": [
       "<Figure size 432x288 with 1 Axes>"
      ]
     },
     "metadata": {
      "needs_background": "light"
     },
     "output_type": "display_data"
    }
   ],
   "source": [
    "x_values = weather_data['Lat']\n",
    "y_values = weather_data['Cloudiness']\n",
    "plt.scatter(x_values,y_values)\n",
    "plt.title(\"Latitude vs. Cloudiness\")\n",
    "plt.xlabel('City Latitude')\n",
    "plt.ylabel('Cloudiness')\n",
    "plt.savefig(\"output_data/latvscloud.png\")\n",
    "plt.show()"
   ]
  },
  {
   "cell_type": "markdown",
   "metadata": {},
   "source": [
    "### Again, this scatter plot shows that there isnt a strong relationship between latitude and cloudiness. "
   ]
  },
  {
   "cell_type": "markdown",
   "metadata": {},
   "source": [
    "#### Latitude vs. Wind Speed Plot"
   ]
  },
  {
   "cell_type": "code",
   "execution_count": 137,
   "metadata": {},
   "outputs": [
    {
     "data": {
      "image/png": "[encoded data removed]",
      "text/plain": [
       "<Figure size 432x288 with 1 Axes>"
      ]
     },
     "metadata": {
      "needs_background": "light"
     },
     "output_type": "display_data"
    }
   ],
   "source": [
    "x_values = weather_data['Lat']\n",
    "y_values = weather_data['Wind Speed']\n",
    "plt.scatter(x_values,y_values)\n",
    "plt.title(\"Latitude vs. Wind Speed\")\n",
    "plt.xlabel('City Latitude')\n",
    "plt.ylabel('Wind Speed')\n",
    "plt.savefig(\"output_data/latvswind.png\")\n",
    "plt.show()"
   ]
  },
  {
   "cell_type": "markdown",
   "metadata": {},
   "source": [
    "### This scatter plot shows that wind speed increases slightly as you move away from the equator and toward the poles. "
   ]
  },
  {
   "cell_type": "markdown",
   "metadata": {},
   "source": [
    "## Linear Regression"
   ]
  },
  {
   "cell_type": "code",
   "execution_count": 164,
   "metadata": {},
   "outputs": [],
   "source": [
    "# OPTIONAL: Create a function to create Linear Regression plotsfig, ax = plt.subplots()\n",
    "\n",
    "def weather_reg (x_values, y_values, ylabel, title, coordinates):\n",
    "    (slope, intercept, rvalue, pvalue, standarderror) = linregress(x_values, y_values)\n",
    "    regress_values = x_values * slope + intercept\n",
    "    line_equation = \"y = \" + str(round(slope, 2)) + \"x + \" + str(round(intercept, 2))\n",
    "    plt.scatter(x_values, y_values)\n",
    "    plt.plot(x_values, regress_values, \"r-\")\n",
    "    plt.annotate(line_equation, coordinates, fontsize = 10, color = \"red\")\n",
    "    plt.xlabel(\"Latitude\")\n",
    "    plt.ylabel(ylabel)\n",
    "    plt.title(title)\n",
    "    plt.show()"
   ]
  },
  {
   "cell_type": "code",
   "execution_count": 165,
   "metadata": {},
   "outputs": [
    {
     "data": {
      "text/html": [
       "<div>\n",
       "<style scoped>\n",
       "    .dataframe tbody tr th:only-of-type {\n",
       "        vertical-align: middle;\n",
       "    }\n",
       "\n",
       "    .dataframe tbody tr th {\n",
       "        vertical-align: top;\n",
       "    }\n",
       "\n",
       "    .dataframe thead th {\n",
       "        text-align: right;\n",
       "    }\n",
       "</style>\n",
       "<table border=\"1\" class=\"dataframe\">\n",
       "  <thead>\n",
       "    <tr style=\"text-align: right;\">\n",
       "      <th></th>\n",
       "      <th>City</th>\n",
       "      <th>City ID</th>\n",
       "      <th>Cloudiness</th>\n",
       "      <th>Country</th>\n",
       "      <th>Date</th>\n",
       "      <th>Humidity</th>\n",
       "      <th>Lat</th>\n",
       "      <th>Long</th>\n",
       "      <th>Max Temp</th>\n",
       "      <th>Wind Speed</th>\n",
       "    </tr>\n",
       "  </thead>\n",
       "  <tbody>\n",
       "    <tr>\n",
       "      <td>0</td>\n",
       "      <td>pevek</td>\n",
       "      <td>2122090</td>\n",
       "      <td>100</td>\n",
       "      <td>RU</td>\n",
       "      <td>1586547028</td>\n",
       "      <td>86</td>\n",
       "      <td>69.70</td>\n",
       "      <td>170.31</td>\n",
       "      <td>1.17</td>\n",
       "      <td>22.48</td>\n",
       "    </tr>\n",
       "    <tr>\n",
       "      <td>1</td>\n",
       "      <td>saint george</td>\n",
       "      <td>5546220</td>\n",
       "      <td>1</td>\n",
       "      <td>US</td>\n",
       "      <td>1586547016</td>\n",
       "      <td>44</td>\n",
       "      <td>37.10</td>\n",
       "      <td>-113.58</td>\n",
       "      <td>60.80</td>\n",
       "      <td>4.70</td>\n",
       "    </tr>\n",
       "    <tr>\n",
       "      <td>2</td>\n",
       "      <td>luderitz</td>\n",
       "      <td>3355672</td>\n",
       "      <td>0</td>\n",
       "      <td>NA</td>\n",
       "      <td>1586547058</td>\n",
       "      <td>77</td>\n",
       "      <td>-26.65</td>\n",
       "      <td>15.16</td>\n",
       "      <td>60.80</td>\n",
       "      <td>4.70</td>\n",
       "    </tr>\n",
       "    <tr>\n",
       "      <td>3</td>\n",
       "      <td>chokurdakh</td>\n",
       "      <td>2126123</td>\n",
       "      <td>0</td>\n",
       "      <td>RU</td>\n",
       "      <td>1586547201</td>\n",
       "      <td>96</td>\n",
       "      <td>70.63</td>\n",
       "      <td>147.92</td>\n",
       "      <td>18.79</td>\n",
       "      <td>10.54</td>\n",
       "    </tr>\n",
       "    <tr>\n",
       "      <td>4</td>\n",
       "      <td>da nang</td>\n",
       "      <td>1583992</td>\n",
       "      <td>20</td>\n",
       "      <td>VN</td>\n",
       "      <td>1586547201</td>\n",
       "      <td>88</td>\n",
       "      <td>16.07</td>\n",
       "      <td>108.22</td>\n",
       "      <td>77.00</td>\n",
       "      <td>4.68</td>\n",
       "    </tr>\n",
       "  </tbody>\n",
       "</table>\n",
       "</div>"
      ],
      "text/plain": [
       "           City  City ID  Cloudiness Country        Date  Humidity    Lat  \\\n",
       "0         pevek  2122090         100      RU  1586547028        86  69.70   \n",
       "1  saint george  5546220           1      US  1586547016        44  37.10   \n",
       "2      luderitz  3355672           0      NA  1586547058        77 -26.65   \n",
       "3    chokurdakh  2126123           0      RU  1586547201        96  70.63   \n",
       "4       da nang  1583992          20      VN  1586547201        88  16.07   \n",
       "\n",
       "     Long  Max Temp  Wind Speed  \n",
       "0  170.31      1.17       22.48  \n",
       "1 -113.58     60.80        4.70  \n",
       "2   15.16     60.80        4.70  \n",
       "3  147.92     18.79       10.54  \n",
       "4  108.22     77.00        4.68  "
      ]
     },
     "execution_count": 165,
     "metadata": {},
     "output_type": "execute_result"
    }
   ],
   "source": [
    "weather_data.head()"
   ]
  },
  {
   "cell_type": "code",
   "execution_count": 166,
   "metadata": {},
   "outputs": [],
   "source": [
    "# Create Northern and Southern Hemisphere DataFrames\n",
    "North = weather_data.loc[(weather_data[\"Lat\"] > 0), :]\n",
    "South = weather_data.loc[(weather_data[\"Lat\"] < 0), :]"
   ]
  },
  {
   "cell_type": "markdown",
   "metadata": {},
   "source": [
    "####  Northern Hemisphere - Max Temp vs. Latitude Linear Regression"
   ]
  },
  {
   "cell_type": "code",
   "execution_count": 170,
   "metadata": {},
   "outputs": [
    {
     "data": {
      "image/png": "[encoded data removed]",
      "text/plain": [
       "<Figure size 432x288 with 1 Axes>"
      ]
     },
     "metadata": {
      "needs_background": "light"
     },
     "output_type": "display_data"
    }
   ],
   "source": [
    "x_values = North['Lat']\n",
    "y_values = North['Max Temp']\n",
    "ylabel = \"Max Temp\"\n",
    "title = \"North: Max Temp vs. Latitude\"\n",
    "coordinates = (30,10)\n",
    "\n",
    "weather_reg(x_values, y_values, ylabel, title, coordinates)"
   ]
  },
  {
   "cell_type": "markdown",
   "metadata": {},
   "source": [
    "####  Southern Hemisphere - Max Temp vs. Latitude Linear Regression"
   ]
  },
  {
   "cell_type": "code",
   "execution_count": 172,
   "metadata": {},
   "outputs": [
    {
     "data": {
      "image/png": "[encoded data removed]",
      "text/plain": [
       "<Figure size 432x288 with 1 Axes>"
      ]
     },
     "metadata": {
      "needs_background": "light"
     },
     "output_type": "display_data"
    }
   ],
   "source": [
    "x_values = South['Lat']\n",
    "y_values = South['Max Temp']\n",
    "ylabel = \"Max Temp\"\n",
    "title = \"South: Max Temp vs. Latitude\"\n",
    "coordinates = (-30,40)\n",
    "\n",
    "weather_reg(x_values, y_values, ylabel, title, coordinates)"
   ]
  },
  {
   "cell_type": "markdown",
   "metadata": {},
   "source": [
    "### These regression plots show that in the Northern hemisphere there is negative relationship between temp and latitude, but in the south there is a positive relationship. Since the scales are moving opposite directions from 0 though, this really shows a similar relationship, which you can see from the regression equation."
   ]
  },
  {
   "cell_type": "markdown",
   "metadata": {},
   "source": [
    "####  Northern Hemisphere - Humidity (%) vs. Latitude Linear Regression"
   ]
  },
  {
   "cell_type": "code",
   "execution_count": 175,
   "metadata": {},
   "outputs": [
    {
     "data": {
      "image/png": "[encoded data removed]",
      "text/plain": [
       "<Figure size 432x288 with 1 Axes>"
      ]
     },
     "metadata": {
      "needs_background": "light"
     },
     "output_type": "display_data"
    }
   ],
   "source": [
    "x_values = North['Lat']\n",
    "y_values = North['Humidity']\n",
    "ylabel = \"Humidity\"\n",
    "title = \"North: Humidity vs. Latitude\"\n",
    "coordinates = (55,20)\n",
    "\n",
    "weather_reg(x_values, y_values, ylabel, title, coordinates)"
   ]
  },
  {
   "cell_type": "markdown",
   "metadata": {},
   "source": [
    "####  Southern Hemisphere - Humidity (%) vs. Latitude Linear Regression"
   ]
  },
  {
   "cell_type": "code",
   "execution_count": 177,
   "metadata": {},
   "outputs": [
    {
     "data": {
      "image/png": "[encoded data removed]",
      "text/plain": [
       "<Figure size 432x288 with 1 Axes>"
      ]
     },
     "metadata": {
      "needs_background": "light"
     },
     "output_type": "display_data"
    }
   ],
   "source": [
    "x_values = South['Lat']\n",
    "y_values = South['Humidity']\n",
    "ylabel = \"Humidity\"\n",
    "title = \"South: Humidity vs. Latitude\"\n",
    "coordinates = (-20,20)\n",
    "\n",
    "weather_reg(x_values, y_values, ylabel, title, coordinates)"
   ]
  },
  {
   "cell_type": "markdown",
   "metadata": {},
   "source": [
    "####  Northern Hemisphere - Cloudiness (%) vs. Latitude Linear Regression"
   ]
  },
  {
   "cell_type": "code",
   "execution_count": 182,
   "metadata": {},
   "outputs": [
    {
     "data": {
      "image/png": "[encoded data removed]",
      "text/plain": [
       "<Figure size 432x288 with 1 Axes>"
      ]
     },
     "metadata": {
      "needs_background": "light"
     },
     "output_type": "display_data"
    }
   ],
   "source": [
    "x_values = North['Lat']\n",
    "y_values = North['Cloudiness']\n",
    "ylabel = \"Cloudiness\"\n",
    "title = \"North: Cloudiness vs. Latitude\"\n",
    "coordinates = (20,60)\n",
    "\n",
    "weather_reg(x_values, y_values, ylabel, title, coordinates)"
   ]
  },
  {
   "cell_type": "markdown",
   "metadata": {},
   "source": [
    "####  Southern Hemisphere - Cloudiness (%) vs. Latitude Linear Regression"
   ]
  },
  {
   "cell_type": "code",
   "execution_count": 186,
   "metadata": {},
   "outputs": [
    {
     "data": {
      "image/png": "[encoded data removed]",
      "text/plain": [
       "<Figure size 432x288 with 1 Axes>"
      ]
     },
     "metadata": {
      "needs_background": "light"
     },
     "output_type": "display_data"
    }
   ],
   "source": [
    "x_values = South['Lat']\n",
    "y_values = South['Cloudiness']\n",
    "ylabel = \"Cloudiness\"\n",
    "title = \"South: Cloudiness vs. Latitude\"\n",
    "coordinates = (-50,50)\n",
    "\n",
    "weather_reg(x_values, y_values, ylabel, title, coordinates)"
   ]
  },
  {
   "cell_type": "markdown",
   "metadata": {},
   "source": [
    "### When it comes to cloudiness, both the Northern and Southern hempisphere show there is very little relationship between cloudiness and latitude, as idicated by the slope values close to 0. "
   ]
  },
  {
   "cell_type": "markdown",
   "metadata": {},
   "source": [
    "####  Northern Hemisphere - Wind Speed (mph) vs. Latitude Linear Regression"
   ]
  },
  {
   "cell_type": "code",
   "execution_count": 188,
   "metadata": {},
   "outputs": [
    {
     "data": {
      "image/png": "[encoded data removed]",
      "text/plain": [
       "<Figure size 432x288 with 1 Axes>"
      ]
     },
     "metadata": {
      "needs_background": "light"
     },
     "output_type": "display_data"
    }
   ],
   "source": [
    "x_values = North['Lat']\n",
    "y_values = North['Wind Speed']\n",
    "ylabel = \"Wind Speed\"\n",
    "title = \"North: Wind Speed vs. Latitude\"\n",
    "coordinates = (30,20)\n",
    "\n",
    "weather_reg(x_values, y_values, ylabel, title, coordinates)"
   ]
  },
  {
   "cell_type": "markdown",
   "metadata": {},
   "source": [
    "####  Southern Hemisphere - Wind Speed (mph) vs. Latitude Linear Regression"
   ]
  },
  {
   "cell_type": "code",
   "execution_count": 190,
   "metadata": {},
   "outputs": [
    {
     "data": {
      "image/png": "[encoded data removed]",
      "text/plain": [
       "<Figure size 432x288 with 1 Axes>"
      ]
     },
     "metadata": {
      "needs_background": "light"
     },
     "output_type": "display_data"
    }
   ],
   "source": [
    "x_values = South['Lat']\n",
    "y_values = South['Wind Speed']\n",
    "ylabel = \"Wind Speed\"\n",
    "title = \"South: Wind Speed vs. Latitude\"\n",
    "coordinates = (-50,15)\n",
    "\n",
    "weather_reg(x_values, y_values, ylabel, title, coordinates)"
   ]
  },
  {
   "cell_type": "markdown",
   "metadata": {},
   "source": [
    "### Finally, wind speed also does not seem to highly correlate with latitude. In fact, it has the smallest slopes, indicating a very low correlation."
   ]
  },
  {
   "cell_type": "code",
   "execution_count": null,
   "metadata": {},
   "outputs": [],
   "source": []
  }
 ],
 "metadata": {
  "anaconda-cloud": {},
  "kernel_info": {
   "name": "python3"
  },
  "kernelspec": {
   "display_name": "Python 3",
   "language": "python",
   "name": "python3"
  },
  "language_info": {
   "codemirror_mode": {
    "name": "ipython",
    "version": 3
   },
   "file_extension": ".py",
   "mimetype": "text/x-python",
   "name": "python",
   "nbconvert_exporter": "python",
   "pygments_lexer": "ipython3",
   "version": "3.7.4"
  },
  "latex_envs": {
   "LaTeX_envs_menu_present": true,
   "autoclose": false,
   "autocomplete": true,
   "bibliofile": "biblio.bib",
   "cite_by": "apalike",
   "current_citInitial": 1,
   "eqLabelWithNumbers": true,
   "eqNumInitial": 1,
   "hotkeys": {
    "equation": "Ctrl-E",
    "itemize": "Ctrl-I"
   },
   "labels_anchors": false,
   "latex_user_defs": false,
   "report_style_numbering": false,
   "user_envs_cfg": false
  },
  "nteract": {
   "version": "0.12.3"
  }
 },
 "nbformat": 4,
 "nbformat_minor": 2
}
